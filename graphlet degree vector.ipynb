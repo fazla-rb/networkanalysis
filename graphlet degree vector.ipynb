{
 "cells": [
  {
   "cell_type": "code",
   "execution_count": 6,
   "id": "fc9559f7",
   "metadata": {},
   "outputs": [
    {
     "name": "stdout",
     "output_type": "stream",
     "text": [
      "The graphlet degree vector of the DataFrame is [  0  78 363 374 171 264  65   0  19   5   2   8   1   0   0   0   1   0\n",
      "   0   0   0   0   0   0   0   0   0   0]\n"
     ]
    }
   ],
   "source": [
    "import pandas as pd\n",
    "import numpy as np\n",
    "import networkx as nx\n",
    "from collections import defaultdict\n",
    "\n",
    "def graphlet_degree_vector(df):\n",
    "    G = nx.from_pandas_edgelist(df, source='Source', target='Target')\n",
    "    n = len(G.nodes())\n",
    "    gdv = defaultdict(int)\n",
    "    for node in G.nodes():\n",
    "        neighbors = list(G.neighbors(node))\n",
    "        k = len(neighbors)\n",
    "        if k > 1:\n",
    "            subgraph = G.subgraph(neighbors)\n",
    "            orbits = nx.algorithms.isomorphism.GraphMatcher(G, subgraph).subgraph_isomorphisms_iter()\n",
    "            for orbit in orbits:\n",
    "                orbit_nodes = set(orbit.keys())\n",
    "                gdv[len(orbit_nodes)] += 1\n",
    "    gdv = np.array([gdv[i] for i in range(1, n)])\n",
    "    return gdv\n",
    "\n",
    "# Example usage\n",
    "df = pd.read_csv(\"CVC_Motif.csv\")\n",
    "gdv = graphlet_degree_vector(df)\n",
    "print(f\"The graphlet degree vector of the DataFrame is {gdv}\")\n"
   ]
  },
  {
   "cell_type": "code",
   "execution_count": 5,
   "id": "7ff20e39",
   "metadata": {},
   "outputs": [
    {
     "data": {
      "image/png": "[encoded data removed]",
      "text/plain": [
       "<Figure size 432x288 with 1 Axes>"
      ]
     },
     "metadata": {
      "needs_background": "light"
     },
     "output_type": "display_data"
    }
   ],
   "source": [
    "import matplotlib.pyplot as plt\n",
    "import numpy as np\n",
    "\n",
    "gdv = np.array([0, 1528, 976, 573, 238, 2, 31, 552, 4, 0, 0, 2, 0, 0, 4, 0, 0, 0, 0, 0, 0, 0, 0, 0, 0, 0, 0, 0])\n",
    "\n",
    "plt.bar(range(1, len(gdv)+1), gdv)\n",
    "plt.xlabel('Graphlet size')\n",
    "plt.ylabel('Count')\n",
    "plt.title('Graphlet degree vector')\n",
    "plt.show()\n"
   ]
  },
  {
   "cell_type": "code",
   "execution_count": null,
   "id": "b82fc094",
   "metadata": {},
   "outputs": [],
   "source": []
  }
 ],
 "metadata": {
  "kernelspec": {
   "display_name": "Python 3 (ipykernel)",
   "language": "python",
   "name": "python3"
  },
  "language_info": {
   "codemirror_mode": {
    "name": "ipython",
    "version": 3
   },
   "file_extension": ".py",
   "mimetype": "text/x-python",
   "name": "python",
   "nbconvert_exporter": "python",
   "pygments_lexer": "ipython3",
   "version": "3.9.12"
  }
 },
 "nbformat": 4,
 "nbformat_minor": 5
}
